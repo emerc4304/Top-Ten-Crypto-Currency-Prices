{
 "cells": [
  {
   "cell_type": "markdown",
   "id": "cddc89e2",
   "metadata": {},
   "source": [
    "### In this code file, we will analyze the top Crypto Currency Prices and see the trend of their price movement for last five years."
   ]
  },
  {
   "cell_type": "code",
   "execution_count": 2,
   "id": "f91aff69",
   "metadata": {},
   "outputs": [
    {
     "data": {
      "text/plain": [
       "'C:\\\\Users\\\\sing4\\\\Downloads'"
      ]
     },
     "execution_count": 2,
     "metadata": {},
     "output_type": "execute_result"
    }
   ],
   "source": [
    "pwd"
   ]
  }
 ],
 "metadata": {
  "kernelspec": {
   "display_name": "Python 3",
   "language": "python",
   "name": "python3"
  },
  "language_info": {
   "codemirror_mode": {
    "name": "ipython",
    "version": 3
   },
   "file_extension": ".py",
   "mimetype": "text/x-python",
   "name": "python",
   "nbconvert_exporter": "python",
   "pygments_lexer": "ipython3",
   "version": "3.8.8"
  }
 },
 "nbformat": 4,
 "nbformat_minor": 5
}
